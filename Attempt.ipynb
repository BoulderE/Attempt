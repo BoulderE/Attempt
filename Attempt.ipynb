{
  "nbformat": 4,
  "nbformat_minor": 0,
  "metadata": {
    "colab": {
      "provenance": [],
      "authorship_tag": "ABX9TyOkGeKmmSpD7uyUVdhnVTtX",
      "include_colab_link": true
    },
    "kernelspec": {
      "name": "python3",
      "display_name": "Python 3"
    },
    "language_info": {
      "name": "python"
    }
  },
  "cells": [
    {
      "cell_type": "markdown",
      "metadata": {
        "id": "view-in-github",
        "colab_type": "text"
      },
      "source": [
        "<a href=\"https://colab.research.google.com/github/BoulderE/Attempt/blob/main/Attempt.ipynb\" target=\"_parent\"><img src=\"https://colab.research.google.com/assets/colab-badge.svg\" alt=\"Open In Colab\"/></a>"
      ]
    },
    {
      "cell_type": "code",
      "source": [
        "star = \"*\"\n",
        "space = \" \"\n",
        "print(11*star)\n",
        "print(1*star, 7*space, 1*star)\n",
        "print(1*star + 3*space + 3*star +3*space + 1*star)\n",
        "print(1*star + 3*space + 1*star, 1*star +3*space + 1*star)\n",
        "print(1*star + 3*space + 3*star +3*space + 1*star)\n",
        "print(1*star, 7*space, 1*star)\n",
        "print(11*star)"
      ],
      "metadata": {
        "colab": {
          "base_uri": "https://localhost:8080/"
        },
        "id": "FOfzVNPhKniH",
        "outputId": "fd6ddad5-f01d-4aee-f08a-368c8f09c373"
      },
      "execution_count": 15,
      "outputs": [
        {
          "output_type": "stream",
          "name": "stdout",
          "text": [
            "***********\n",
            "*         *\n",
            "*   ***   *\n",
            "*   * *   *\n",
            "*   ***   *\n",
            "*         *\n",
            "***********\n"
          ]
        }
      ]
    },
    {
      "cell_type": "code",
      "source": [
        "print(\"\"\"\n",
        "       **    ** \n",
        "    ******  ******\n",
        "   ******* * ******\n",
        "  ******************\n",
        "   ***************\n",
        "     ***********\n",
        "       ********\n",
        "          ***\n",
        "\"\"\")"
      ],
      "metadata": {
        "id": "Q4QCU33bOV3V",
        "outputId": "fd1266ad-71f0-4035-e408-171b140abd2f",
        "colab": {
          "base_uri": "https://localhost:8080/"
        }
      },
      "execution_count": 18,
      "outputs": [
        {
          "output_type": "stream",
          "name": "stdout",
          "text": [
            "\n",
            "       **    ** \n",
            "    ******  ******\n",
            "   ******* * ******\n",
            "  ******************\n",
            "   ***************\n",
            "     ***********\n",
            "       ********\n",
            "          ***\n",
            "\n"
          ]
        }
      ]
    },
    {
      "cell_type": "code",
      "execution_count": 17,
      "metadata": {
        "id": "cLbhL13iFzN9",
        "colab": {
          "base_uri": "https://localhost:8080/"
        },
        "outputId": "53c0ca16-afc5-4e04-e4d3-25d5393a2eea"
      },
      "outputs": [
        {
          "output_type": "stream",
          "name": "stdout",
          "text": [
            "       **    ** \n",
            "    ******  ******\n",
            "   ******* * ******\n",
            "  ******************\n",
            "   ***************\n",
            "     ***********\n",
            "       ********\n",
            "          ***\n"
          ]
        }
      ],
      "source": [
        "# *****\n",
        "print(\"       **    ** \")\n",
        "print(\"    ******  ******\")\n",
        "print(\"   ******* * ******\")\n",
        "print(\"  ******************\")\n",
        "print(\"   ***************\")\n",
        "print(\"     ***********\")\n",
        "print(\"       ********\")\n",
        "print(\"          ***\")"
      ]
    }
  ]
}