{
  "nbformat": 4,
  "nbformat_minor": 0,
  "metadata": {
    "colab": {
      "provenance": [],
      "authorship_tag": "ABX9TyPz6qRpm6avnjUZlJatE4CE",
      "include_colab_link": true
    },
    "kernelspec": {
      "name": "python3",
      "display_name": "Python 3"
    },
    "language_info": {
      "name": "python"
    }
  },
  "cells": [
    {
      "cell_type": "markdown",
      "metadata": {
        "id": "view-in-github",
        "colab_type": "text"
      },
      "source": [
        "<a href=\"https://colab.research.google.com/github/BoulderE/Attempt/blob/main/Attempt.ipynb\" target=\"_parent\"><img src=\"https://colab.research.google.com/assets/colab-badge.svg\" alt=\"Open In Colab\"/></a>"
      ]
    },
    {
      "cell_type": "code",
      "source": [],
      "metadata": {
        "id": "FOfzVNPhKniH"
      },
      "execution_count": null,
      "outputs": []
    },
    {
      "cell_type": "code",
      "execution_count": 4,
      "metadata": {
        "id": "cLbhL13iFzN9",
        "outputId": "81d9f0bf-e557-4996-b653-f36dc91e148b",
        "colab": {
          "base_uri": "https://localhost:8080/"
        }
      },
      "outputs": [
        {
          "output_type": "stream",
          "name": "stdout",
          "text": [
            "    2*n\n"
          ]
        }
      ],
      "source": [
        "# *****\n",
        "print(\"       **    ** \")\n",
        "print(\"    ******  ******\")\n",
        "print(\"   ******* * ******\")\n",
        "print(\"  ******************\")\n",
        "print(\"   ***************\")\n",
        "print(\"     ***********\")\n",
        "print(\"       ********\")\n",
        "print(\"          ***\")"
      ]
    }
  ]
}